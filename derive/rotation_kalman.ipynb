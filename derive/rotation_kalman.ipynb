{
 "cells": [
  {
   "cell_type": "code",
   "execution_count": 12,
   "metadata": {},
   "outputs": [
    {
     "data": {
      "text/latex": [
       "$\\displaystyle \\left[\\begin{matrix}1 & \\omega_{x} & - \\omega_{y} & - \\omega_{z}\\\\\\omega_{x} & 1 & \\omega_{z} & - \\omega_{y}\\\\\\omega_{y} & - \\omega_{z} & 1 & \\omega_{x}\\\\\\omega_{z} & \\omega_{y} & - \\omega_{x} & 1\\end{matrix}\\right]$"
      ],
      "text/plain": [
       "⎡   1       \\omegaₓ   -\\omega_y  -\\omega_z⎤\n",
       "⎢                                         ⎥\n",
       "⎢\\omegaₓ       1      \\omega_z   -\\omega_y⎥\n",
       "⎢                                         ⎥\n",
       "⎢\\omega_y  -\\omega_z      1       \\omegaₓ ⎥\n",
       "⎢                                         ⎥\n",
       "⎣\\omega_z  \\omega_y   -\\omegaₓ       1    ⎦"
      ]
     },
     "execution_count": 12,
     "metadata": {},
     "output_type": "execute_result"
    }
   ],
   "source": [
    "import sympy\n",
    "sympy.init_printing(use_latex=\"mathjax\", fontsize='16pt')\n",
    "\n",
    "w_x, w_y, w_z = sympy.symbols(\"\\omega_x,\\omega_y,\\omega_z\")\n",
    "\n",
    "update_matrix = sympy.Matrix([\n",
    "    [0, w_x, -w_y, -w_z],\n",
    "    [w_x, 0, w_z, -w_y],\n",
    "    [w_y, -w_z, 0, w_x],\n",
    "    [w_z, w_y, -w_x, 0],\n",
    "])\n",
    "\n",
    "\n",
    "update_matrix"
   ]
  },
  {
   "cell_type": "code",
   "execution_count": 14,
   "metadata": {},
   "outputs": [
    {
     "ename": "TypeError",
     "evalue": "``self`` must be a row or a column matrix",
     "output_type": "error",
     "traceback": [
      "\u001b[0;31m---------------------------------------------------------------------------\u001b[0m",
      "\u001b[0;31mTypeError\u001b[0m                                 Traceback (most recent call last)",
      "Cell \u001b[0;32mIn[14], line 1\u001b[0m\n\u001b[0;32m----> 1\u001b[0m jacob \u001b[38;5;241m=\u001b[39m \u001b[43mupdate_matrix\u001b[49m\u001b[38;5;241;43m.\u001b[39;49m\u001b[43mjacobian\u001b[49m\u001b[43m(\u001b[49m\u001b[43msympy\u001b[49m\u001b[38;5;241;43m.\u001b[39;49m\u001b[43mMatrix\u001b[49m\u001b[43m(\u001b[49m\u001b[43m[\u001b[49m\u001b[43m \u001b[49m\u001b[43mw_x\u001b[49m\u001b[43m,\u001b[49m\u001b[43m \u001b[49m\u001b[43mw_y\u001b[49m\u001b[43m,\u001b[49m\u001b[43m \u001b[49m\u001b[43mw_z\u001b[49m\u001b[43m \u001b[49m\u001b[43m]\u001b[49m\u001b[43m)\u001b[49m\u001b[43m)\u001b[49m\n",
      "File \u001b[0;32m/Library/Frameworks/Python.framework/Versions/3.11/lib/python3.11/site-packages/sympy/matrices/matrixbase.py:3500\u001b[0m, in \u001b[0;36mMatrixBase.jacobian\u001b[0;34m(self, X)\u001b[0m\n\u001b[1;32m   3498\u001b[0m     m \u001b[38;5;241m=\u001b[39m \u001b[38;5;28mself\u001b[39m\u001b[38;5;241m.\u001b[39mshape[\u001b[38;5;241m0\u001b[39m]\n\u001b[1;32m   3499\u001b[0m \u001b[38;5;28;01melse\u001b[39;00m:\n\u001b[0;32m-> 3500\u001b[0m     \u001b[38;5;28;01mraise\u001b[39;00m \u001b[38;5;167;01mTypeError\u001b[39;00m(\u001b[38;5;124m\"\u001b[39m\u001b[38;5;124m``self`` must be a row or a column matrix\u001b[39m\u001b[38;5;124m\"\u001b[39m)\n\u001b[1;32m   3501\u001b[0m \u001b[38;5;28;01mif\u001b[39;00m X\u001b[38;5;241m.\u001b[39mshape[\u001b[38;5;241m0\u001b[39m] \u001b[38;5;241m==\u001b[39m \u001b[38;5;241m1\u001b[39m:\n\u001b[1;32m   3502\u001b[0m     n \u001b[38;5;241m=\u001b[39m X\u001b[38;5;241m.\u001b[39mshape[\u001b[38;5;241m1\u001b[39m]\n",
      "\u001b[0;31mTypeError\u001b[0m: ``self`` must be a row or a column matrix"
     ]
    }
   ],
   "source": [
    "jacob = update_matrix.jacobian(sympy.Matrix([ w_x, w_y, w_z ]))"
   ]
  }
 ],
 "metadata": {
  "kernelspec": {
   "display_name": "Python 3",
   "language": "python",
   "name": "python3"
  },
  "language_info": {
   "codemirror_mode": {
    "name": "ipython",
    "version": 3
   },
   "file_extension": ".py",
   "mimetype": "text/x-python",
   "name": "python",
   "nbconvert_exporter": "python",
   "pygments_lexer": "ipython3",
   "version": "3.11.4"
  }
 },
 "nbformat": 4,
 "nbformat_minor": 2
}
