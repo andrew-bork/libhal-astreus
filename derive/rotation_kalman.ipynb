{
 "cells": [
  {
   "cell_type": "code",
   "execution_count": 87,
   "metadata": {},
   "outputs": [
    {
     "data": {
      "text/latex": [
       "$\\displaystyle \\left[\\begin{matrix}q.w + q.x \\left(b.x - w.x\\right) + q.y \\left(b.y - w.y\\right) + q.z \\left(b.z - w.z\\right)\\\\q.w \\left(- b.x + w.x\\right) + q.x + q.y \\left(- b.z + w.z\\right) + q.z \\left(b.y - w.y\\right)\\\\q.w \\left(- b.y + w.y\\right) + q.x \\left(b.z - w.z\\right) + q.y + q.z \\left(- b.x + w.x\\right)\\\\q.w \\left(- b.z + w.z\\right) + q.x \\left(- b.y + w.y\\right) + q.y \\left(b.x - w.x\\right) + q.z\\\\b.x\\\\b.y\\\\b.z\\end{matrix}\\right]$"
      ],
      "text/plain": [
       "⎡ q.w + q.x⋅(b.x - w.x) + q.y⋅(b.y - w.y) + q.z⋅(b.z - w.z) ⎤\n",
       "⎢                                                           ⎥\n",
       "⎢q.w⋅(-b.x + w.x) + q.x + q.y⋅(-b.z + w.z) + q.z⋅(b.y - w.y)⎥\n",
       "⎢                                                           ⎥\n",
       "⎢q.w⋅(-b.y + w.y) + q.x⋅(b.z - w.z) + q.y + q.z⋅(-b.x + w.x)⎥\n",
       "⎢                                                           ⎥\n",
       "⎢q.w⋅(-b.z + w.z) + q.x⋅(-b.y + w.y) + q.y⋅(b.x - w.x) + q.z⎥\n",
       "⎢                                                           ⎥\n",
       "⎢                            b.x                            ⎥\n",
       "⎢                                                           ⎥\n",
       "⎢                            b.y                            ⎥\n",
       "⎢                                                           ⎥\n",
       "⎣                            b.z                            ⎦"
      ]
     },
     "execution_count": 87,
     "metadata": {},
     "output_type": "execute_result"
    }
   ],
   "source": [
    "import sympy\n",
    "sympy.init_printing(use_latex=\"mathjax\", fontsize='16pt')\n",
    "\n",
    "w, x, y, z = sympy.symbols(\"q.w, q.x, q.y, q.z\")\n",
    "b_x, b_y, b_z = sympy.symbols(\"b.x, b.y, b.z\")\n",
    "w_x, w_y, w_z = sympy.symbols(\"w.x,w.y,w.z\")\n",
    "\n",
    "update_matrix = sympy.Matrix([\n",
    "    [1, -(w_x-b_x), -(w_y-b_y), -(w_z-b_z)],\n",
    "    [(w_x-b_x), 1, (w_z-b_z), -(w_y-b_y)],\n",
    "    [(w_y-b_y), -(w_z-b_z), 1, (w_x-b_x)],\n",
    "    [(w_z-b_z), (w_y-b_y), -(w_x-b_x), 1],\n",
    "    [0, 0, 0, 0],\n",
    "    [0, 0, 0, 0],\n",
    "    [0, 0, 0, 0],\n",
    "]) * sympy.Matrix([ w,  x, y, z ]) + sympy.Matrix([\n",
    "    [0],\n",
    "    [0],\n",
    "    [0],\n",
    "    [0],\n",
    "    [b_x],\n",
    "    [b_y],\n",
    "    [b_z],\n",
    "])\n",
    "\n",
    "\n",
    "update_matrix"
   ]
  },
  {
   "cell_type": "code",
   "execution_count": 88,
   "metadata": {},
   "outputs": [
    {
     "data": {
      "text/latex": [
       "$\\displaystyle \\left[\\begin{matrix}1 & b.x - w.x & b.y - w.y & b.z - w.z & q.x & q.y & q.z\\\\- b.x + w.x & 1 & - b.z + w.z & b.y - w.y & - q.w & q.z & - q.y\\\\- b.y + w.y & b.z - w.z & 1 & - b.x + w.x & - q.z & - q.w & q.x\\\\- b.z + w.z & - b.y + w.y & b.x - w.x & 1 & q.y & - q.x & - q.w\\\\0 & 0 & 0 & 0 & 1 & 0 & 0\\\\0 & 0 & 0 & 0 & 0 & 1 & 0\\\\0 & 0 & 0 & 0 & 0 & 0 & 1\\end{matrix}\\right]$"
      ],
      "text/plain": [
       "⎡    1       b.x - w.x   b.y - w.y   b.z - w.z   q.x   q.y   q.z ⎤\n",
       "⎢                                                                ⎥\n",
       "⎢-b.x + w.x      1       -b.z + w.z  b.y - w.y   -q.w  q.z   -q.y⎥\n",
       "⎢                                                                ⎥\n",
       "⎢-b.y + w.y  b.z - w.z       1       -b.x + w.x  -q.z  -q.w  q.x ⎥\n",
       "⎢                                                                ⎥\n",
       "⎢-b.z + w.z  -b.y + w.y  b.x - w.x       1       q.y   -q.x  -q.w⎥\n",
       "⎢                                                                ⎥\n",
       "⎢    0           0           0           0        1     0     0  ⎥\n",
       "⎢                                                                ⎥\n",
       "⎢    0           0           0           0        0     1     0  ⎥\n",
       "⎢                                                                ⎥\n",
       "⎣    0           0           0           0        0     0     1  ⎦"
      ]
     },
     "execution_count": 88,
     "metadata": {},
     "output_type": "execute_result"
    }
   ],
   "source": [
    "FxX = update_matrix.jacobian(sympy.Matrix([w, x, y, z, b_x, b_y, b_z ]))\n",
    "FxX"
   ]
  },
  {
   "cell_type": "code",
   "execution_count": 89,
   "metadata": {},
   "outputs": [
    {
     "data": {
      "text/latex": [
       "$\\displaystyle \\left[\\begin{matrix}- q.x & - q.y & - q.z\\\\q.w & - q.z & q.y\\\\q.z & q.w & - q.x\\\\- q.y & q.x & q.w\\\\0 & 0 & 0\\\\0 & 0 & 0\\\\0 & 0 & 0\\end{matrix}\\right]$"
      ],
      "text/plain": [
       "⎡-q.x  -q.y  -q.z⎤\n",
       "⎢                ⎥\n",
       "⎢q.w   -q.z  q.y ⎥\n",
       "⎢                ⎥\n",
       "⎢q.z   q.w   -q.x⎥\n",
       "⎢                ⎥\n",
       "⎢-q.y  q.x   q.w ⎥\n",
       "⎢                ⎥\n",
       "⎢ 0     0     0  ⎥\n",
       "⎢                ⎥\n",
       "⎢ 0     0     0  ⎥\n",
       "⎢                ⎥\n",
       "⎣ 0     0     0  ⎦"
      ]
     },
     "execution_count": 89,
     "metadata": {},
     "output_type": "execute_result"
    }
   ],
   "source": [
    "FxU=update_matrix.jacobian(sympy.Matrix([ w_x, w_y, w_z ]))\n",
    "FxU"
   ]
  },
  {
   "cell_type": "code",
   "execution_count": 90,
   "metadata": {},
   "outputs": [
    {
     "data": {
      "text/latex": [
       "$\\displaystyle \\left[\\begin{matrix}- q.x & - q.y & - q.z\\\\q.w & - q.z & q.y\\\\q.z & q.w & - q.x\\\\- q.y & q.x & q.w\\\\0 & 0 & 0\\\\0 & 0 & 0\\\\0 & 0 & 0\\end{matrix}\\right] W \\left[\\begin{matrix}- q.x & q.w & q.z & - q.y & 0 & 0 & 0\\\\- q.y & - q.z & q.w & q.x & 0 & 0 & 0\\\\- q.z & q.y & - q.x & q.w & 0 & 0 & 0\\end{matrix}\\right] + \\left[\\begin{matrix}1 & b.x - w.x & b.y - w.y & b.z - w.z & q.x & q.y & q.z\\\\- b.x + w.x & 1 & - b.z + w.z & b.y - w.y & - q.w & q.z & - q.y\\\\- b.y + w.y & b.z - w.z & 1 & - b.x + w.x & - q.z & - q.w & q.x\\\\- b.z + w.z & - b.y + w.y & b.x - w.x & 1 & q.y & - q.x & - q.w\\\\0 & 0 & 0 & 0 & 1 & 0 & 0\\\\0 & 0 & 0 & 0 & 0 & 1 & 0\\\\0 & 0 & 0 & 0 & 0 & 0 & 1\\end{matrix}\\right] P \\left[\\begin{matrix}1 & - b.x + w.x & - b.y + w.y & - b.z + w.z & 0 & 0 & 0\\\\b.x - w.x & 1 & b.z - w.z & - b.y + w.y & 0 & 0 & 0\\\\b.y - w.y & - b.z + w.z & 1 & b.x - w.x & 0 & 0 & 0\\\\b.z - w.z & b.y - w.y & - b.x + w.x & 1 & 0 & 0 & 0\\\\q.x & - q.w & - q.z & q.y & 1 & 0 & 0\\\\q.y & q.z & - q.w & - q.x & 0 & 1 & 0\\\\q.z & - q.y & q.x & - q.w & 0 & 0 & 1\\end{matrix}\\right]$"
      ],
      "text/plain": [
       "⎡-q.x  -q.y  -q.z⎤                                       ⎡    1       b.x - w. ↪\n",
       "⎢                ⎥                                       ⎢                     ↪\n",
       "⎢q.w   -q.z  q.y ⎥                                       ⎢-b.x + w.x      1    ↪\n",
       "⎢                ⎥                                       ⎢                     ↪\n",
       "⎢q.z   q.w   -q.x⎥   ⎡-q.x  q.w   q.z   -q.y  0  0  0⎤   ⎢-b.y + w.y  b.z - w. ↪\n",
       "⎢                ⎥   ⎢                               ⎥   ⎢                     ↪\n",
       "⎢-q.y  q.x   q.w ⎥⋅W⋅⎢-q.y  -q.z  q.w   q.x   0  0  0⎥ + ⎢-b.z + w.z  -b.y + w ↪\n",
       "⎢                ⎥   ⎢                               ⎥   ⎢                     ↪\n",
       "⎢ 0     0     0  ⎥   ⎣-q.z  q.y   -q.x  q.w   0  0  0⎦   ⎢    0           0    ↪\n",
       "⎢                ⎥                                       ⎢                     ↪\n",
       "⎢ 0     0     0  ⎥                                       ⎢    0           0    ↪\n",
       "⎢                ⎥                                       ⎢                     ↪\n",
       "⎣ 0     0     0  ⎦                                       ⎣    0           0    ↪\n",
       "\n",
       "↪ x   b.y - w.y   b.z - w.z   q.x   q.y   q.z ⎤   ⎡    1      -b.x + w.x  -b.y ↪\n",
       "↪                                             ⎥   ⎢                            ↪\n",
       "↪     -b.z + w.z  b.y - w.y   -q.w  q.z   -q.y⎥   ⎢b.x - w.x      1       b.z  ↪\n",
       "↪                                             ⎥   ⎢                            ↪\n",
       "↪ z       1       -b.x + w.x  -q.z  -q.w  q.x ⎥   ⎢b.y - w.y  -b.z + w.z       ↪\n",
       "↪                                             ⎥   ⎢                            ↪\n",
       "↪ .y  b.x - w.x       1       q.y   -q.x  -q.w⎥⋅P⋅⎢b.z - w.z  b.y - w.y   -b.x ↪\n",
       "↪                                             ⎥   ⎢                            ↪\n",
       "↪         0           0        1     0     0  ⎥   ⎢   q.x        -q.w        - ↪\n",
       "↪                                             ⎥   ⎢                            ↪\n",
       "↪         0           0        0     1     0  ⎥   ⎢   q.y        q.z         - ↪\n",
       "↪                                             ⎥   ⎢                            ↪\n",
       "↪         0           0        0     0     1  ⎦   ⎣   q.z        -q.y        q ↪\n",
       "\n",
       "↪  + w.y  -b.z + w.z  0  0  0⎤\n",
       "↪                            ⎥\n",
       "↪ - w.z   -b.y + w.y  0  0  0⎥\n",
       "↪                            ⎥\n",
       "↪ 1       b.x - w.x   0  0  0⎥\n",
       "↪                            ⎥\n",
       "↪  + w.x      1       0  0  0⎥\n",
       "↪                            ⎥\n",
       "↪ q.z        q.y      1  0  0⎥\n",
       "↪                            ⎥\n",
       "↪ q.w        -q.x     0  1  0⎥\n",
       "↪                            ⎥\n",
       "↪ .x         -q.w     0  0  1⎦"
      ]
     },
     "execution_count": 90,
     "metadata": {},
     "output_type": "execute_result"
    }
   ],
   "source": [
    "P = sympy.MatrixSymbol('P', 7, 7)\n",
    "W = sympy.MatrixSymbol('W', 3, 3)\n",
    "\n",
    "P_p_predicted = FxX * P * FxX.transpose() + FxU * W * FxU.transpose()\n",
    "P_p_predicted"
   ]
  },
  {
   "cell_type": "code",
   "execution_count": 95,
   "metadata": {},
   "outputs": [
    {
     "data": {
      "text/latex": [
       "$\\displaystyle \\left( \\left[ \\left( x_{0}, \\  - q.x\\right), \\  \\left( x_{1}, \\  - q.y\\right), \\  \\left( x_{2}, \\  - q.z\\right), \\  \\left( x_{3}, \\  b.x - w.x\\right), \\  \\left( x_{4}, \\  b.y - w.y\\right), \\  \\left( x_{5}, \\  b.z - w.z\\right), \\  \\left( x_{6}, \\  - x_{3}\\right), \\  \\left( x_{7}, \\  - x_{5}\\right), \\  \\left( x_{8}, \\  - q.w\\right), \\  \\left( x_{9}, \\  - x_{4}\\right)\\right], \\  \\left[ \\left[\\begin{matrix}x_{0} & x_{1} & x_{2}\\\\q.w & x_{2} & q.y\\\\q.z & q.w & x_{0}\\\\x_{1} & q.x & q.w\\\\0 & 0 & 0\\\\0 & 0 & 0\\\\0 & 0 & 0\\end{matrix}\\right] W \\left[\\begin{matrix}x_{0} & q.w & q.z & x_{1} & 0 & 0 & 0\\\\x_{1} & x_{2} & q.w & q.x & 0 & 0 & 0\\\\x_{2} & q.y & x_{0} & q.w & 0 & 0 & 0\\end{matrix}\\right] + \\left[\\begin{matrix}1 & x_{3} & x_{4} & x_{5} & q.x & q.y & q.z\\\\x_{6} & 1 & x_{7} & x_{4} & x_{8} & q.z & x_{1}\\\\x_{9} & x_{5} & 1 & x_{6} & x_{2} & x_{8} & q.x\\\\x_{7} & x_{9} & x_{3} & 1 & q.y & x_{0} & x_{8}\\\\0 & 0 & 0 & 0 & 1 & 0 & 0\\\\0 & 0 & 0 & 0 & 0 & 1 & 0\\\\0 & 0 & 0 & 0 & 0 & 0 & 1\\end{matrix}\\right] P \\left[\\begin{matrix}1 & x_{6} & x_{9} & x_{7} & 0 & 0 & 0\\\\x_{3} & 1 & x_{5} & x_{9} & 0 & 0 & 0\\\\x_{4} & x_{7} & 1 & x_{3} & 0 & 0 & 0\\\\x_{5} & x_{4} & x_{6} & 1 & 0 & 0 & 0\\\\q.x & x_{8} & x_{2} & q.y & 1 & 0 & 0\\\\q.y & q.z & x_{8} & x_{0} & 0 & 1 & 0\\\\q.z & x_{1} & q.x & x_{8} & 0 & 0 & 1\\end{matrix}\\right]\\right]\\right)$"
      ],
      "text/plain": [
       "⎛                                                                              ↪\n",
       "⎜                                                                              ↪\n",
       "⎜                                                                              ↪\n",
       "⎜                                                                              ↪\n",
       "⎜                                                                              ↪\n",
       "⎜                                                                              ↪\n",
       "⎜[(x₀, -q.x), (x₁, -q.y), (x₂, -q.z), (x₃, b.x - w.x), (x₄, b.y - w.y), (x₅, b ↪\n",
       "⎜                                                                              ↪\n",
       "⎜                                                                              ↪\n",
       "⎜                                                                              ↪\n",
       "⎜                                                                              ↪\n",
       "⎜                                                                              ↪\n",
       "⎝                                                                              ↪\n",
       "\n",
       "↪                                                          ⎡⎡x₀   x₁   x₂ ⎤    ↪\n",
       "↪                                                          ⎢⎢             ⎥    ↪\n",
       "↪                                                          ⎢⎢q.w  x₂   q.y⎥    ↪\n",
       "↪                                                          ⎢⎢             ⎥    ↪\n",
       "↪                                                          ⎢⎢q.z  q.w  x₀ ⎥    ↪\n",
       "↪                                                          ⎢⎢             ⎥    ↪\n",
       "↪ .z - w.z), (x₆, -x₃), (x₇, -x₅), (x₈, -q.w), (x₉, -x₄)], ⎢⎢x₁   q.x  q.w⎥⋅W⋅ ↪\n",
       "↪                                                          ⎢⎢             ⎥    ↪\n",
       "↪                                                          ⎢⎢ 0    0    0 ⎥    ↪\n",
       "↪                                                          ⎢⎢             ⎥    ↪\n",
       "↪                                                          ⎢⎢ 0    0    0 ⎥    ↪\n",
       "↪                                                          ⎢⎢             ⎥    ↪\n",
       "↪                                                          ⎣⎣ 0    0    0 ⎦    ↪\n",
       "\n",
       "↪                                ⎡1   x₃  x₄  x₅  q.x  q.y  q.z⎤   ⎡ 1   x₆    ↪\n",
       "↪                                ⎢                             ⎥   ⎢           ↪\n",
       "↪                                ⎢x₆  1   x₇  x₄  x₈   q.z  x₁ ⎥   ⎢x₃    1    ↪\n",
       "↪                                ⎢                             ⎥   ⎢           ↪\n",
       "↪ ⎡x₀  q.w  q.z  x₁   0  0  0⎤   ⎢x₉  x₅  1   x₆  x₂   x₈   q.x⎥   ⎢x₄   x₇    ↪\n",
       "↪ ⎢                          ⎥   ⎢                             ⎥   ⎢           ↪\n",
       "↪ ⎢x₁  x₂   q.w  q.x  0  0  0⎥ + ⎢x₇  x₉  x₃  1   q.y  x₀   x₈ ⎥⋅P⋅⎢x₅   x₄    ↪\n",
       "↪ ⎢                          ⎥   ⎢                             ⎥   ⎢           ↪\n",
       "↪ ⎣x₂  q.y  x₀   q.w  0  0  0⎦   ⎢0   0   0   0    1    0    0 ⎥   ⎢q.x  x₈    ↪\n",
       "↪                                ⎢                             ⎥   ⎢           ↪\n",
       "↪                                ⎢0   0   0   0    0    1    0 ⎥   ⎢q.y  q.z   ↪\n",
       "↪                                ⎢                             ⎥   ⎢           ↪\n",
       "↪                                ⎣0   0   0   0    0    0    1 ⎦   ⎣q.z  x₁    ↪\n",
       "\n",
       "↪ x₉   x₇   0  0  0⎤⎤⎞\n",
       "↪                  ⎥⎥⎟\n",
       "↪ x₅   x₉   0  0  0⎥⎥⎟\n",
       "↪                  ⎥⎥⎟\n",
       "↪  1   x₃   0  0  0⎥⎥⎟\n",
       "↪                  ⎥⎥⎟\n",
       "↪ x₆    1   0  0  0⎥⎥⎟\n",
       "↪                  ⎥⎥⎟\n",
       "↪ x₂   q.y  1  0  0⎥⎥⎟\n",
       "↪                  ⎥⎥⎟\n",
       "↪ x₈   x₀   0  1  0⎥⎥⎟\n",
       "↪                  ⎥⎥⎟\n",
       "↪ q.x  x₈   0  0  1⎦⎦⎠"
      ]
     },
     "execution_count": 95,
     "metadata": {},
     "output_type": "execute_result"
    }
   ],
   "source": [
    "sympy.cse(P_p_predicted)"
   ]
  },
  {
   "cell_type": "code",
   "execution_count": 96,
   "metadata": {},
   "outputs": [],
   "source": [
    "# sympy.ccode(P_p_predicted[0], strict=False, contract=True)\n",
    "import sympy.codegen\n",
    "import sympy.codegen.rewriting\n",
    "\n",
    "\n",
    "p_pred = sympy.MatrixSymbol('p_pred', 7, 7)\n",
    "x_pred = sympy.MatrixSymbol('x_pred', 7, 1)\n",
    "# p_pred[0,0]\n",
    "# sympy.ccode(update_matrix, assign_to=x_pred, strict=False)\n",
    "with open(\"./generated/predict_covar.cpp\", \"w\") as f:\n",
    "    f.write(sympy.ccode(P_p_predicted, assign_to=p_pred))\n"
   ]
  },
  {
   "cell_type": "code",
   "execution_count": 92,
   "metadata": {},
   "outputs": [],
   "source": [
    "with open(\"./generated/predict.cpp\", \"w\") as f:\n",
    "    f.write(sympy.ccode(update_matrix, assign_to=x_pred, strict=False))"
   ]
  }
 ],
 "metadata": {
  "kernelspec": {
   "display_name": "Python 3",
   "language": "python",
   "name": "python3"
  },
  "language_info": {
   "codemirror_mode": {
    "name": "ipython",
    "version": 3
   },
   "file_extension": ".py",
   "mimetype": "text/x-python",
   "name": "python",
   "nbconvert_exporter": "python",
   "pygments_lexer": "ipython3",
   "version": "3.11.4"
  }
 },
 "nbformat": 4,
 "nbformat_minor": 2
}
